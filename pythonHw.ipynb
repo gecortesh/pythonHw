{
 "cells": [
  {
   "cell_type": "code",
   "execution_count": 3,
   "metadata": {
    "collapsed": false
   },
   "outputs": [
    {
     "name": "stdout",
     "output_type": "stream",
     "text": [
      "5\n"
     ]
    }
   ],
   "source": [
    "number = str(int(5))\n",
    "print number"
   ]
  },
  {
   "cell_type": "code",
   "execution_count": 1,
   "metadata": {
    "collapsed": false
   },
   "outputs": [
    {
     "name": "stdout",
     "output_type": "stream",
     "text": [
      "4\n"
     ]
    }
   ],
   "source": [
    "number1= int(str ('2') )\n",
    "number2=int(str ('2'))\n",
    "number = number1+number2\n",
    "print number"
   ]
  },
  {
   "cell_type": "code",
   "execution_count": 11,
   "metadata": {
    "collapsed": false
   },
   "outputs": [
    {
     "name": "stdout",
     "output_type": "stream",
     "text": [
      "Enter a word: Hello\n",
      "Enter a second word: World\n",
      "HelloWorld\n"
     ]
    }
   ],
   "source": [
    "string1= raw_input ('Enter a word: ')\n",
    "string2= raw_input ('Enter a second word: ')\n",
    "print str(string1) + str(string2)\n"
   ]
  },
  {
   "cell_type": "code",
   "execution_count": 31,
   "metadata": {
    "collapsed": false
   },
   "outputs": [
    {
     "name": "stdout",
     "output_type": "stream",
     "text": [
      "Enter a word: Hello\n",
      "Enter a second word: World\n",
      "Hello\n",
      "World\n"
     ]
    }
   ],
   "source": [
    "string1= raw_input ('Enter a word: ')\n",
    "string2= raw_input ('Enter a second word: ')\n",
    "len1= len(string1)\n",
    "len2= len(string2)\n",
    "if len1 > len2:\n",
    "    print string1\n",
    "if len2 > len1:\n",
    "    print string2\n",
    "if len1 == len2:\n",
    "    print string1\n",
    "    print string2"
   ]
  },
  {
   "cell_type": "code",
   "execution_count": 42,
   "metadata": {
    "collapsed": false
   },
   "outputs": [
    {
     "name": "stdout",
     "output_type": "stream",
     "text": [
      "Enter a number: 6\n",
      "It's an even number: 6\n"
     ]
    }
   ],
   "source": [
    "number = int(input ('Enter a number: '))\n",
    "if number % 2 == 0:\n",
    "    print \"It's an even number: \" + str(number)\n",
    "if number % 2 != 0:\n",
    "    print \"It's an odd number: \" + str(number)\n",
    "\n"
   ]
  },
  {
   "cell_type": "code",
   "execution_count": 53,
   "metadata": {
    "collapsed": false
   },
   "outputs": [
    {
     "name": "stdout",
     "output_type": "stream",
     "text": [
      "Enter a word: kko\n",
      "No\n"
     ]
    }
   ],
   "source": [
    "string = raw_input('Enter a word: ')\n",
    "if string == \"Yes\" or string ==\"YES\" or string ==\"yes\":\n",
    "    print \"Yes\"\n",
    "if string != \"Yes\" and string !=\"YES\" and string !=\"yes\":\n",
    "    print \"No\""
   ]
  },
  {
   "cell_type": "code",
   "execution_count": 54,
   "metadata": {
    "collapsed": false
   },
   "outputs": [
    {
     "name": "stdout",
     "output_type": "stream",
     "text": [
      "[2, 4, 6, 8, 10]\n"
     ]
    }
   ],
   "source": [
    "list1 = [1,2,3,4,5,6,7,8,9,10]\n",
    "even = filter(lambda x: x % 2 == 0, list1)\n",
    "print even\n"
   ]
  },
  {
   "cell_type": "code",
   "execution_count": 56,
   "metadata": {
    "collapsed": false
   },
   "outputs": [
    {
     "name": "stdout",
     "output_type": "stream",
     "text": [
      "[1, 4, 9, 16, 25, 36, 49, 64, 81, 100]\n"
     ]
    }
   ],
   "source": [
    "elements = [1,2,3,4,5,6,7,8,9,10]\n",
    "square = map(lambda x: x*x, elements)\n",
    "print square\n"
   ]
  },
  {
   "cell_type": "code",
   "execution_count": 72,
   "metadata": {
    "collapsed": false
   },
   "outputs": [
    {
     "name": "stdout",
     "output_type": "stream",
     "text": [
      "[2, 4, 6, 8, 10, 12, 14, 16, 18, 20]\n"
     ]
    }
   ],
   "source": [
    "even = filter(lambda x: x%2==0, range(1,21))\n",
    "print even"
   ]
  },
  {
   "cell_type": "code",
   "execution_count": 17,
   "metadata": {
    "collapsed": false
   },
   "outputs": [
    {
     "name": "stdout",
     "output_type": "stream",
     "text": [
      "Enter words separated by comma: without,hello,bag,world\n",
      "bag,hello,without,world\n"
     ]
    }
   ],
   "source": [
    "words=raw_input('Enter words separated by comma: ').split(',')\n",
    "wsort=[x for x in words]\n",
    "wsort.sort()\n",
    "print ','.join(wsort)\n"
   ]
  },
  {
   "cell_type": "code",
   "execution_count": 18,
   "metadata": {
    "collapsed": false
   },
   "outputs": [
    {
     "name": "stdout",
     "output_type": "stream",
     "text": [
      "Enter text: H1e2l3l4o5w6o7r8l9d\n",
      "Helloworld\n"
     ]
    }
   ],
   "source": [
    "word=str(raw_input('Enter text: '))\n",
    "word=word[::2]\n",
    "print word\n"
   ]
  },
  {
   "cell_type": "code",
   "execution_count": 27,
   "metadata": {
    "collapsed": false
   },
   "outputs": [
    {
     "name": "stdout",
     "output_type": "stream",
     "text": [
      "Enter text: Hello world Practice makes perfect\n",
      "HELLO WORLD PRACTICE MAKES PERFECT\n"
     ]
    }
   ],
   "source": [
    "inputString=raw_input('Enter text: ')\n",
    "print inputString.upper()"
   ]
  },
  {
   "cell_type": "code",
   "execution_count": null,
   "metadata": {
    "collapsed": false
   },
   "outputs": [],
   "source": [
    "words=raw_input('Enter words: ').split(' ')\n",
    "list(set(words))\n",
    "sorted(word)\n",
    "print ' '.join(words)\n"
   ]
  },
  {
   "cell_type": "code",
   "execution_count": null,
   "metadata": {
    "collapsed": true
   },
   "outputs": [],
   "source": []
  }
 ],
 "metadata": {
  "kernelspec": {
   "display_name": "Python 2",
   "language": "python",
   "name": "python2"
  },
  "language_info": {
   "codemirror_mode": {
    "name": "ipython",
    "version": 2
   },
   "file_extension": ".py",
   "mimetype": "text/x-python",
   "name": "python",
   "nbconvert_exporter": "python",
   "pygments_lexer": "ipython2",
   "version": "2.7.11"
  }
 },
 "nbformat": 4,
 "nbformat_minor": 0
}
