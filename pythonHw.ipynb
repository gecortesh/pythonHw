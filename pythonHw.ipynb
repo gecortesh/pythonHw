{
 "cells": [
  {
   "cell_type": "code",
   "execution_count": 3,
   "metadata": {
    "collapsed": false
   },
   "outputs": [
    {
     "name": "stdout",
     "output_type": "stream",
     "text": [
      "5\n"
     ]
    }
   ],
   "source": [
    "number = str(int(5))\n",
    "print number"
   ]
  },
  {
   "cell_type": "code",
   "execution_count": 1,
   "metadata": {
    "collapsed": false
   },
   "outputs": [
    {
     "name": "stdout",
     "output_type": "stream",
     "text": [
      "4\n"
     ]
    }
   ],
   "source": [
    "number1= int(str ('2') )\n",
    "number2=int(str ('2'))\n",
    "number = number1+number2\n",
    "print number"
   ]
  },
  {
   "cell_type": "code",
   "execution_count": 11,
   "metadata": {
    "collapsed": false
   },
   "outputs": [
    {
     "name": "stdout",
     "output_type": "stream",
     "text": [
      "Enter a word: Hello\n",
      "Enter a second word: World\n",
      "HelloWorld\n"
     ]
    }
   ],
   "source": [
    "string1= raw_input ('Enter a word: ')\n",
    "string2= raw_input ('Enter a second word: ')\n",
    "print str(string1) + str(string2)\n"
   ]
  },
  {
   "cell_type": "code",
   "execution_count": 30,
   "metadata": {
    "collapsed": false
   },
   "outputs": [
    {
     "name": "stdout",
     "output_type": "stream",
     "text": [
      "Enter a word: He\n",
      "Enter a second word: ji\n",
      "Output: He ji\n"
     ]
    }
   ],
   "source": [
    "string1= raw_input ('Enter a word: ')\n",
    "string2= raw_input ('Enter a second word: ')\n",
    "len1= len(string1)\n",
    "len2= len(string2)\n",
    "if len1 > len2:\n",
    "    print string1\n",
    "if len2 > len1:\n",
    "    print string2\n",
    "if len1 == len2:\n",
    "    print \"Output: \" + string1, string2"
   ]
  }
 ],
 "metadata": {
  "kernelspec": {
   "display_name": "Python 2",
   "language": "python",
   "name": "python2"
  },
  "language_info": {
   "codemirror_mode": {
    "name": "ipython",
    "version": 2
   },
   "file_extension": ".py",
   "mimetype": "text/x-python",
   "name": "python",
   "nbconvert_exporter": "python",
   "pygments_lexer": "ipython2",
   "version": "2.7.11"
  }
 },
 "nbformat": 4,
 "nbformat_minor": 0
}
